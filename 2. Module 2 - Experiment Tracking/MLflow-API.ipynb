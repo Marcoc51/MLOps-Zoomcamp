{
 "cells": [
  {
   "cell_type": "code",
   "execution_count": 1,
   "id": "2c1bd7c4",
   "metadata": {},
   "outputs": [],
   "source": [
    "from mlflow.tracking import MlflowClient\n",
    "from mlflow.entities import ViewType\n",
    "import mlflow\n",
    "from sklearn.metrics import mean_squared_error\n",
    "import pandas as pd\n",
    "from datetime import datetime\n",
    "import pickle"
   ]
  },
  {
   "cell_type": "code",
   "execution_count": 2,
   "id": "5f50a726",
   "metadata": {},
   "outputs": [],
   "source": [
    "MLFLOW_TRACKING_URI = \"sqlite:///mlflow.db\"\n",
    "\n",
    "client = MlflowClient(tracking_uri=MLFLOW_TRACKING_URI)"
   ]
  },
  {
   "cell_type": "code",
   "execution_count": 3,
   "id": "a4918a6d",
   "metadata": {},
   "outputs": [
    {
     "data": {
      "text/plain": [
       "[<Experiment: artifact_location='/workspaces/MLOps-Zoomcamp/2. Module 2 - Experiment Tracking/mlruns/2', creation_time=1748234642656, experiment_id='2', last_update_time=1748234642656, lifecycle_stage='active', name='my-cool-exp', tags={}>,\n",
       " <Experiment: artifact_location='/workspaces/MLOps-Zoomcamp/2. Module 2 - Experiment Tracking/mlruns/1', creation_time=1748193104587, experiment_id='1', last_update_time=1748193104587, lifecycle_stage='active', name='nyc-taxi', tags={}>,\n",
       " <Experiment: artifact_location='mlflow-artifacts:/0', creation_time=1748192589586, experiment_id='0', last_update_time=1748192589586, lifecycle_stage='active', name='Default', tags={}>]"
      ]
     },
     "execution_count": 3,
     "metadata": {},
     "output_type": "execute_result"
    }
   ],
   "source": [
    "# client.list_experiments() # In older versions\n",
    "\n",
    "client.search_experiments() # Ine the new version"
   ]
  },
  {
   "cell_type": "code",
   "execution_count": 4,
   "id": "fcfc0e69",
   "metadata": {},
   "outputs": [
    {
     "data": {
      "text/plain": [
       "'3'"
      ]
     },
     "execution_count": 4,
     "metadata": {},
     "output_type": "execute_result"
    }
   ],
   "source": [
    "client.create_experiment(name=\"new-exp\")"
   ]
  },
  {
   "cell_type": "code",
   "execution_count": 5,
   "id": "e3edc73e",
   "metadata": {},
   "outputs": [
    {
     "name": "stdout",
     "output_type": "stream",
     "text": [
      "run id: d3fad227b05b46b7b1ca48210d85916b, rmse: 6.3134\n",
      "run id: 04acdf5182b5406284accc98b4ff5708, rmse: 6.3134\n",
      "run id: 33a6910f136c4da384bb0df7ac7e96e0, rmse: 6.3134\n",
      "run id: a472584a598f46cb8b1b42752a97abec, rmse: 6.3134\n",
      "run id: f2c1269c03b84dd7800f873dbb860712, rmse: 6.3297\n",
      "run id: 16b8a95d203d4ca8b38dbb726c09ac6f, rmse: 6.4126\n",
      "run id: 213bd8a8b3754a289589313c3268aeae, rmse: 6.5648\n",
      "run id: 638481b288074aa4bdc179c4f9b764d9, rmse: 11.1673\n"
     ]
    }
   ],
   "source": [
    "runs = client.search_runs(\n",
    "    experiment_ids='1',\n",
    "    filter_string=\"metrics.rmse < 12\",\n",
    "    run_view_type=ViewType.ACTIVE_ONLY,\n",
    "    max_results=10,\n",
    "    order_by=[\"metrics.rmse ASC\"]\n",
    ")\n",
    "\n",
    "for run in runs:\n",
    "    print(f\"run id: {run.info.run_id}, rmse: {run.data.metrics['rmse']:.4f}\")"
   ]
  },
  {
   "cell_type": "code",
   "execution_count": 6,
   "id": "726ffe84",
   "metadata": {},
   "outputs": [],
   "source": [
    "mlflow.set_tracking_uri(MLFLOW_TRACKING_URI)"
   ]
  },
  {
   "cell_type": "code",
   "execution_count": 7,
   "id": "f9c4d241",
   "metadata": {},
   "outputs": [
    {
     "name": "stderr",
     "output_type": "stream",
     "text": [
      "Registered model 'nyc-taxi' already exists. Creating a new version of this model...\n",
      "Created version '4' of model 'nyc-taxi'.\n"
     ]
    },
    {
     "data": {
      "text/plain": [
       "<ModelVersion: aliases=[], creation_timestamp=1748241211723, current_stage='None', description=None, last_updated_timestamp=1748241211723, name='nyc-taxi', run_id='213bd8a8b3754a289589313c3268aeae', run_link=None, source=('/workspaces/MLOps-Zoomcamp/2. Module 2 - Experiment '\n",
       " 'Tracking/mlruns/1/213bd8a8b3754a289589313c3268aeae/artifacts/model'), status='READY', status_message=None, tags={}, user_id=None, version=4>"
      ]
     },
     "execution_count": 7,
     "metadata": {},
     "output_type": "execute_result"
    }
   ],
   "source": [
    "run_id = \"213bd8a8b3754a289589313c3268aeae\"\n",
    "model_uri = f\"runs:/{run_id}/model\"\n",
    "mlflow.register_model(model_uri=model_uri, name='nyc-taxi')"
   ]
  },
  {
   "cell_type": "code",
   "execution_count": 8,
   "id": "9afde411",
   "metadata": {},
   "outputs": [
    {
     "data": {
      "text/plain": [
       "[<RegisteredModel: aliases={}, creation_timestamp=1748233621639, description='', last_updated_timestamp=1748241211723, latest_versions=[<ModelVersion: aliases=[], creation_timestamp=1748241211723, current_stage='None', description=None, last_updated_timestamp=1748241211723, name='nyc-taxi', run_id='213bd8a8b3754a289589313c3268aeae', run_link=None, source=('/workspaces/MLOps-Zoomcamp/2. Module 2 - Experiment '\n",
       "  'Tracking/mlruns/1/213bd8a8b3754a289589313c3268aeae/artifacts/model'), status='READY', status_message=None, tags={}, user_id=None, version=4>,\n",
       "  <ModelVersion: aliases=[], creation_timestamp=1748233681357, current_stage='Production', description='', last_updated_timestamp=1748235825050, name='nyc-taxi', run_id='04acdf5182b5406284accc98b4ff5708', run_link='', source=('/workspaces/MLOps-Zoomcamp/2. Module 2 - Experiment '\n",
       "  'Tracking/mlruns/1/04acdf5182b5406284accc98b4ff5708/artifacts/models_mlflow'), status='READY', status_message=None, tags={}, user_id=None, version=2>,\n",
       "  <ModelVersion: aliases=[], creation_timestamp=1748235408631, current_stage='Staging', description='The model version 3 was transitioned to Staging on 2025-05-26', last_updated_timestamp=1748236336752, name='nyc-taxi', run_id='213bd8a8b3754a289589313c3268aeae', run_link=None, source=('/workspaces/MLOps-Zoomcamp/2. Module 2 - Experiment '\n",
       "  'Tracking/mlruns/1/213bd8a8b3754a289589313c3268aeae/artifacts/model'), status='READY', status_message=None, tags={}, user_id=None, version=3>], name='nyc-taxi', tags={}>]"
      ]
     },
     "execution_count": 8,
     "metadata": {},
     "output_type": "execute_result"
    }
   ],
   "source": [
    "client.search_registered_models()"
   ]
  },
  {
   "cell_type": "code",
   "execution_count": 9,
   "id": "70a0b9f2",
   "metadata": {},
   "outputs": [
    {
     "name": "stdout",
     "output_type": "stream",
     "text": [
      "version: 4, stage: None\n",
      "version: 2, stage: Production\n",
      "version: 3, stage: Staging\n"
     ]
    },
    {
     "name": "stderr",
     "output_type": "stream",
     "text": [
      "/tmp/ipykernel_7810/1455972288.py:2: FutureWarning: ``mlflow.tracking.client.MlflowClient.get_latest_versions`` is deprecated since 2.9.0. Model registry stages will be removed in a future major release. To learn more about the deprecation of model registry stages, see our migration guide here: https://mlflow.org/docs/latest/model-registry.html#migrating-from-stages\n",
      "  latest_versions = client.get_latest_versions(name=model_name)\n"
     ]
    }
   ],
   "source": [
    "model_name = 'nyc-taxi'\n",
    "latest_versions = client.get_latest_versions(name=model_name)\n",
    "\n",
    "for version in latest_versions:\n",
    "    print(f\"version: {version.version}, stage: {version.current_stage}\")"
   ]
  },
  {
   "cell_type": "code",
   "execution_count": 10,
   "id": "c795f241",
   "metadata": {},
   "outputs": [
    {
     "name": "stderr",
     "output_type": "stream",
     "text": [
      "/tmp/ipykernel_7810/2949610654.py:4: FutureWarning: ``mlflow.tracking.client.MlflowClient.transition_model_version_stage`` is deprecated since 2.9.0. Model registry stages will be removed in a future major release. To learn more about the deprecation of model registry stages, see our migration guide here: https://mlflow.org/docs/latest/model-registry.html#migrating-from-stages\n",
      "  client.transition_model_version_stage(\n"
     ]
    },
    {
     "data": {
      "text/plain": [
       "<ModelVersion: aliases=[], creation_timestamp=1748235408631, current_stage='Staging', description='The model version 3 was transitioned to Staging on 2025-05-26', last_updated_timestamp=1748241211779, name='nyc-taxi', run_id='213bd8a8b3754a289589313c3268aeae', run_link=None, source=('/workspaces/MLOps-Zoomcamp/2. Module 2 - Experiment '\n",
       " 'Tracking/mlruns/1/213bd8a8b3754a289589313c3268aeae/artifacts/model'), status='READY', status_message=None, tags={}, user_id=None, version=3>"
      ]
     },
     "execution_count": 10,
     "metadata": {},
     "output_type": "execute_result"
    }
   ],
   "source": [
    "model_version = 3\n",
    "new_stage = \"Staging\"\n",
    "\n",
    "client.transition_model_version_stage(\n",
    "    name=model_name,\n",
    "    version=model_version,\n",
    "    stage=new_stage,\n",
    "    archive_existing_versions=False\n",
    ")"
   ]
  },
  {
   "cell_type": "code",
   "execution_count": 11,
   "id": "51fa0009",
   "metadata": {},
   "outputs": [
    {
     "data": {
      "text/plain": [
       "[<RegisteredModel: aliases={}, creation_timestamp=1748233621639, description='', last_updated_timestamp=1748241211779, latest_versions=[<ModelVersion: aliases=[], creation_timestamp=1748241211723, current_stage='None', description=None, last_updated_timestamp=1748241211723, name='nyc-taxi', run_id='213bd8a8b3754a289589313c3268aeae', run_link=None, source=('/workspaces/MLOps-Zoomcamp/2. Module 2 - Experiment '\n",
       "  'Tracking/mlruns/1/213bd8a8b3754a289589313c3268aeae/artifacts/model'), status='READY', status_message=None, tags={}, user_id=None, version=4>,\n",
       "  <ModelVersion: aliases=[], creation_timestamp=1748233681357, current_stage='Production', description='', last_updated_timestamp=1748235825050, name='nyc-taxi', run_id='04acdf5182b5406284accc98b4ff5708', run_link='', source=('/workspaces/MLOps-Zoomcamp/2. Module 2 - Experiment '\n",
       "  'Tracking/mlruns/1/04acdf5182b5406284accc98b4ff5708/artifacts/models_mlflow'), status='READY', status_message=None, tags={}, user_id=None, version=2>,\n",
       "  <ModelVersion: aliases=[], creation_timestamp=1748235408631, current_stage='Staging', description='The model version 3 was transitioned to Staging on 2025-05-26', last_updated_timestamp=1748241211779, name='nyc-taxi', run_id='213bd8a8b3754a289589313c3268aeae', run_link=None, source=('/workspaces/MLOps-Zoomcamp/2. Module 2 - Experiment '\n",
       "  'Tracking/mlruns/1/213bd8a8b3754a289589313c3268aeae/artifacts/model'), status='READY', status_message=None, tags={}, user_id=None, version=3>], name='nyc-taxi', tags={}>]"
      ]
     },
     "execution_count": 11,
     "metadata": {},
     "output_type": "execute_result"
    }
   ],
   "source": [
    "client.search_registered_models()"
   ]
  },
  {
   "cell_type": "code",
   "execution_count": 12,
   "id": "0c2e0df5",
   "metadata": {},
   "outputs": [
    {
     "name": "stdout",
     "output_type": "stream",
     "text": [
      "version: 4, stage: None\n",
      "version: 2, stage: Production\n",
      "version: 3, stage: Staging\n"
     ]
    },
    {
     "name": "stderr",
     "output_type": "stream",
     "text": [
      "/tmp/ipykernel_7810/1455972288.py:2: FutureWarning: ``mlflow.tracking.client.MlflowClient.get_latest_versions`` is deprecated since 2.9.0. Model registry stages will be removed in a future major release. To learn more about the deprecation of model registry stages, see our migration guide here: https://mlflow.org/docs/latest/model-registry.html#migrating-from-stages\n",
      "  latest_versions = client.get_latest_versions(name=model_name)\n"
     ]
    }
   ],
   "source": [
    "model_name = 'nyc-taxi'\n",
    "latest_versions = client.get_latest_versions(name=model_name)\n",
    "\n",
    "for version in latest_versions:\n",
    "    print(f\"version: {version.version}, stage: {version.current_stage}\")"
   ]
  },
  {
   "cell_type": "code",
   "execution_count": 13,
   "id": "5d837f91",
   "metadata": {},
   "outputs": [
    {
     "data": {
      "text/plain": [
       "<ModelVersion: aliases=[], creation_timestamp=1748235408631, current_stage='Staging', description='The model version 3 was transitioned to Staging on 2025-05-26', last_updated_timestamp=1748241211831, name='nyc-taxi', run_id='213bd8a8b3754a289589313c3268aeae', run_link=None, source=('/workspaces/MLOps-Zoomcamp/2. Module 2 - Experiment '\n",
       " 'Tracking/mlruns/1/213bd8a8b3754a289589313c3268aeae/artifacts/model'), status='READY', status_message=None, tags={}, user_id=None, version=3>"
      ]
     },
     "execution_count": 13,
     "metadata": {},
     "output_type": "execute_result"
    }
   ],
   "source": [
    "date = datetime.today().date()\n",
    "\n",
    "client.update_model_version(\n",
    "    name=model_name,\n",
    "    version=model_version,\n",
    "    description=f\"The model version {model_version} was transitioned to {new_stage} on {date}\"\n",
    ")"
   ]
  },
  {
   "cell_type": "code",
   "execution_count": 14,
   "id": "cd51d9e9",
   "metadata": {},
   "outputs": [],
   "source": [
    "def read_data_frame(file):\n",
    "    df = pd.read_parquet(file)\n",
    "\n",
    "    df['duration'] = df.lpep_dropoff_datetime - df.lpep_pickup_datetime\n",
    "    df.duration = df.duration.apply(lambda td: td.total_seconds() / 60)\n",
    "\n",
    "    df = df[(df.duration >= 1) & (df.duration <= 60)]\n",
    "\n",
    "    categorical = ['PULocationID', 'DOLocationID']\n",
    "    numerical = ['trip_distance']\n",
    "    df[categorical] = df[categorical].astype(str)\n",
    "    \n",
    "    return df\n",
    "\n",
    "def preprocess(df, dv):\n",
    "    df['PU_DO'] = df['PULocationID'] + '_' + df['DOLocationID']\n",
    "    categorical = ['PU_DO']\n",
    "    numerical = ['trip_distance']\n",
    "    train_dicts = df[categorical + numerical].to_dict(orient='records')\n",
    "    \n",
    "    return dv.transform(train_dicts)\n",
    "\n",
    "def test_model(name, stage, x_test, y_test):\n",
    "    model = mlflow.pyfunc.load_model(f\"models:/{name}/{stage}\")\n",
    "    y_pred = model.predict(x_test)\n",
    "    return {\"rmse\": mean_squared_error(y_test, y_pred, squared=False)}"
   ]
  },
  {
   "cell_type": "code",
   "execution_count": 15,
   "id": "522e22fc",
   "metadata": {},
   "outputs": [],
   "source": [
    "df = read_data_frame('https://d37ci6vzurychx.cloudfront.net/trip-data/green_tripdata_2021-03.parquet')"
   ]
  },
  {
   "cell_type": "code",
   "execution_count": 16,
   "id": "545b6ecf",
   "metadata": {},
   "outputs": [
    {
     "data": {
      "application/vnd.jupyter.widget-view+json": {
       "model_id": "a4cf6ac28e0d49539a05b6ed6efcb12a",
       "version_major": 2,
       "version_minor": 0
      },
      "text/plain": [
       "Downloading artifacts:   0%|          | 0/1 [00:00<?, ?it/s]"
      ]
     },
     "metadata": {},
     "output_type": "display_data"
    },
    {
     "data": {
      "text/plain": [
       "'/workspaces/MLOps-Zoomcamp/2. Module 2 - Experiment Tracking/preprocessor'"
      ]
     },
     "execution_count": 16,
     "metadata": {},
     "output_type": "execute_result"
    }
   ],
   "source": [
    "run_id = 'd3fad227b05b46b7b1ca48210d85916b'\n",
    "client.download_artifacts(run_id=run_id, path='preprocessor', dst_path='.')"
   ]
  },
  {
   "cell_type": "code",
   "execution_count": 17,
   "id": "1b9eafb2",
   "metadata": {},
   "outputs": [],
   "source": [
    "with open(\"preprocessor/preprocessor.b\", \"rb\") as f_in:\n",
    "    dv = pickle.load(f_in)"
   ]
  },
  {
   "cell_type": "code",
   "execution_count": 18,
   "id": "52ce8c46",
   "metadata": {},
   "outputs": [],
   "source": [
    "x_test = preprocess(df, dv[0])"
   ]
  },
  {
   "cell_type": "code",
   "execution_count": 19,
   "id": "7db1975d",
   "metadata": {},
   "outputs": [],
   "source": [
    "target = \"duration\"\n",
    "y_test = df[target].values"
   ]
  },
  {
   "cell_type": "code",
   "execution_count": 20,
   "id": "b73757ad",
   "metadata": {},
   "outputs": [
    {
     "name": "stdout",
     "output_type": "stream",
     "text": [
      "CPU times: user 12.5 s, sys: 67.4 ms, total: 12.6 s\n",
      "Wall time: 7.45 s\n"
     ]
    },
    {
     "data": {
      "text/plain": [
       "{'rmse': 6.266264885907768}"
      ]
     },
     "execution_count": 20,
     "metadata": {},
     "output_type": "execute_result"
    }
   ],
   "source": [
    "%time test_model(name=model_name, stage=\"Production\", x_test=x_test, y_test=y_test)"
   ]
  }
 ],
 "metadata": {
  "kernelspec": {
   "display_name": "Python 3 (ipykernel)",
   "language": "python",
   "name": "python3"
  },
  "language_info": {
   "codemirror_mode": {
    "name": "ipython",
    "version": 3
   },
   "file_extension": ".py",
   "mimetype": "text/x-python",
   "name": "python",
   "nbconvert_exporter": "python",
   "pygments_lexer": "ipython3",
   "version": "3.9.12"
  }
 },
 "nbformat": 4,
 "nbformat_minor": 5
}

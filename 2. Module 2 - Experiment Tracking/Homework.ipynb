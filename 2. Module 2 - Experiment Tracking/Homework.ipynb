{
 "cells": [
  {
   "cell_type": "code",
   "execution_count": 1,
   "id": "cf899baa",
   "metadata": {},
   "outputs": [],
   "source": [
    "import os\n",
    "import pandas as pd\n",
    "import mlflow\n",
    "from mlflow.tracking import MlflowClient\n",
    "from mlflow.entities import ViewType\n",
    "from datetime import datetime\n",
    "import pickle\n",
    "from sklearn.feature_extraction import DictVectorizer\n",
    "from sklearn.ensemble import RandomForestRegressor\n",
    "from sklearn.metrics import mean_squared_error\n",
    "import numpy as np\n",
    "from hyperopt import STATUS_OK, Trials, fmin, hp, tpe\n",
    "from hyperopt.pyll import scope"
   ]
  },
  {
   "cell_type": "markdown",
   "id": "91c4ed23",
   "metadata": {},
   "source": [
    "## Q1. Install MLflow"
   ]
  },
  {
   "cell_type": "code",
   "execution_count": 2,
   "id": "6732eb01",
   "metadata": {},
   "outputs": [
    {
     "data": {
      "text/plain": [
       "'2.22.0'"
      ]
     },
     "execution_count": 2,
     "metadata": {},
     "output_type": "execute_result"
    }
   ],
   "source": [
    "mlflow.__version__"
   ]
  },
  {
   "cell_type": "code",
   "execution_count": 3,
   "id": "62c501b8",
   "metadata": {},
   "outputs": [],
   "source": [
    "def dump_pickle(obj, filename: str):\n",
    "    with open(filename, \"wb\") as f_out:\n",
    "        return pickle.dump(obj, f_out)\n",
    "\n",
    "def load_pickle(filename: str):\n",
    "    with open(filename, \"rb\") as f_in:\n",
    "        return pickle.load(f_in)\n",
    "\n",
    "def read_data_frame(file):\n",
    "    df = pd.read_parquet(file)\n",
    "\n",
    "    df['duration'] = df.lpep_dropoff_datetime - df.lpep_pickup_datetime\n",
    "    df.duration = df.duration.apply(lambda td: td.total_seconds() / 60)\n",
    "\n",
    "    df = df[(df.duration >= 1) & (df.duration <= 60)]\n",
    "\n",
    "    categorical = ['PULocationID', 'DOLocationID']\n",
    "    numerical = ['trip_distance']\n",
    "    df[categorical] = df[categorical].astype(str)\n",
    "    \n",
    "    return df\n",
    "\n",
    "def preprocess(df, dv, fit_dv: bool = False):\n",
    "    df['PU_DO'] = df['PULocationID'] + '_' + df['DOLocationID']\n",
    "    categorical = ['PU_DO']\n",
    "    numerical = ['trip_distance']\n",
    "    train_dicts = df[categorical + numerical].to_dict(orient='records')\n",
    "    \n",
    "    if fit_dv:\n",
    "        x = dv.fit_transform(train_dicts)\n",
    "    else:\n",
    "        x = dv.transform(train_dicts)\n",
    "    return x, dv\n",
    "\n",
    "def test_model(name, stage, x_test, y_test):\n",
    "    model = mlflow.pyfunc.load_model(f\"models:/{name}/{stage}\")\n",
    "    y_pred = model.predict(x_test)\n",
    "    return {\"rmse\": mean_squared_error(y_test, y_pred, squared=False)}\n",
    "\n",
    "def run_train(data_path):\n",
    "    # Load data\n",
    "    x_train, y_train = load_pickle(os.path.join(data_path, \"train.pkl\"))\n",
    "    x_val, y_val = load_pickle(os.path.join(data_path, \"val.pkl\"))\n",
    "    \n",
    "    MLFLOW_TRACKING_URI = \"http://localhost:5000\"\n",
    "    mlflow.set_tracking_uri(MLFLOW_TRACKING_URI)\n",
    "\n",
    "    with mlflow.start_run():\n",
    "        rf = RandomForestRegressor(max_depth=10, random_state=0)\n",
    "        rf.fit(x_train, y_train)\n",
    "        \n",
    "        # Automatically log all parameters, including min_samples_split\n",
    "        mlflow.log_params(rf.get_params())\n",
    "        \n",
    "        y_pred = rf.predict(x_val)\n",
    "        rmse = mean_squared_error(y_val, y_pred, squared=False)\n",
    "        mlflow.log_metric(\"rmse\", rmse)\n",
    "\n",
    "        # Save the model artifact\n",
    "        mlflow.sklearn.log_model(rf, artifact_path=\"models_mlflow\")\n",
    "\n",
    "def run_optimization(data_path, num_trials):\n",
    "\n",
    "    X_train, y_train = load_pickle(os.path.join(data_path, \"train.pkl\"))\n",
    "    X_val, y_val = load_pickle(os.path.join(data_path, \"val.pkl\"))\n",
    "\n",
    "    def objective(params):\n",
    "        with mlflow.start_run():\n",
    "            rf = RandomForestRegressor(**params)\n",
    "            rf.fit(x_train, y_train)\n",
    "            y_pred = rf.predict(x_val)\n",
    "            rmse = mean_squared_error(y_val, y_pred, squared=False)\n",
    "\n",
    "            # Log hyperparameters\n",
    "            mlflow.log_params(params)\n",
    "\n",
    "            # Log validation metric\n",
    "            mlflow.log_metric(\"rmse\", rmse)\n",
    "\n",
    "            return {'loss': rmse, 'status': STATUS_OK}\n",
    "\n",
    "    search_space = {\n",
    "        'max_depth': scope.int(hp.quniform('max_depth', 1, 20, 1)),\n",
    "        'n_estimators': scope.int(hp.quniform('n_estimators', 10, 50, 1)),\n",
    "        'min_samples_split': scope.int(hp.quniform('min_samples_split', 2, 10, 1)),\n",
    "        'min_samples_leaf': scope.int(hp.quniform('min_samples_leaf', 1, 4, 1)),\n",
    "        'random_state': 42\n",
    "    }\n",
    "\n",
    "    rstate = np.random.default_rng(42)  # for reproducible results\n",
    "    fmin(\n",
    "        fn=objective,\n",
    "        space=search_space,\n",
    "        algo=tpe.suggest,\n",
    "        max_evals=num_trials,\n",
    "        trials=Trials(),\n",
    "        rstate=rstate\n",
    "    )\n",
    "\n",
    "def train_and_log_model(data_path, params):\n",
    "    x_train, y_train = load_pickle(os.path.join(data_path, \"train.pkl\"))\n",
    "    x_val, y_val = load_pickle(os.path.join(data_path, \"val.pkl\"))\n",
    "    x_test, y_test = load_pickle(os.path.join(data_path, \"test.pkl\"))\n",
    "\n",
    "    with mlflow.start_run():\n",
    "        new_params = {}\n",
    "        for param in RF_PARAMS:\n",
    "            new_params[param] = int(params[param])\n",
    "\n",
    "        rf = RandomForestRegressor(**new_params)\n",
    "        rf.fit(x_train, y_train)\n",
    "\n",
    "        # Evaluate model on the validation and test sets\n",
    "        val_rmse = mean_squared_error(y_val, rf.predict(x_val), squared=False)\n",
    "        mlflow.log_metric(\"val_rmse\", val_rmse)\n",
    "        test_rmse = mean_squared_error(y_test, rf.predict(x_test), squared=False)\n",
    "        mlflow.log_metric(\"test_rmse\", test_rmse)\n",
    "\n",
    "def run_register_model(data_path, top_n):\n",
    "    mlflow.set_tracking_uri(MLFLOW_TRACKING_URI)\n",
    "    mlflow.set_experiment(EXPERIMENT_NAME)\n",
    "\n",
    "    client = MlflowClient()\n",
    "\n",
    "    # Retrieve the top_n model runs and log the models\n",
    "    experiment = client.get_experiment_by_name(HPO_EXPERIMENT_NAME)\n",
    "    runs = client.search_runs(\n",
    "        experiment_ids=experiment.experiment_id,\n",
    "        run_view_type=ViewType.ACTIVE_ONLY,\n",
    "        max_results=top_n,\n",
    "        order_by=[\"metrics.test_rmse ASC\"]\n",
    "    )\n",
    "    for run in runs:\n",
    "        train_and_log_model(data_path=data_path, params=run.data.params)\n",
    "\n",
    "    # Select the model with the lowest test RMSE\n",
    "    experiment = client.get_experiment_by_name(EXPERIMENT_NAME)\n",
    "    best_run = client.search_runs(\n",
    "        experiment_ids=experiment.experiment_id,\n",
    "        run_view_type=ViewType.ACTIVE_ONLY,\n",
    "        max_results=1,\n",
    "        order_by=[\"metrics.test_rmse ASC\"]\n",
    "    )[0]\n",
    "\n",
    "    # Register the best model\n",
    "    run_id = best_run.info.run_id\n",
    "    model_uri = f\"runs:/{run_id}/model\"\n",
    "\n",
    "    mlflow.register_model(\n",
    "        model_uri=model_uri,\n",
    "        name=REGISTERED_MODEL_NAME\n",
    "    )"
   ]
  },
  {
   "cell_type": "code",
   "execution_count": 4,
   "id": "fdaac491",
   "metadata": {},
   "outputs": [],
   "source": [
    "df_train = read_data_frame('https://d37ci6vzurychx.cloudfront.net/trip-data/green_tripdata_2023-01.parquet')\n",
    "df_val = read_data_frame('https://d37ci6vzurychx.cloudfront.net/trip-data/green_tripdata_2023-02.parquet')\n",
    "df_test = read_data_frame('https://d37ci6vzurychx.cloudfront.net/trip-data/green_tripdata_2023-03.parquet')"
   ]
  },
  {
   "cell_type": "code",
   "execution_count": 5,
   "id": "f4fd4331",
   "metadata": {},
   "outputs": [],
   "source": [
    "# Extract the target\n",
    "target = \"duration\"\n",
    "y_train = df_train[target].values\n",
    "y_val = df_val[target].values\n",
    "y_test = df_test[target].values"
   ]
  },
  {
   "cell_type": "code",
   "execution_count": 6,
   "id": "addd76ea",
   "metadata": {},
   "outputs": [],
   "source": [
    "# Fit the DictVectorizer and preprocess data\n",
    "dv = DictVectorizer()\n",
    "x_train, dv = preprocess(df_train, dv, fit_dv=True)\n",
    "x_val, _ = preprocess(df_val, dv, fit_dv=False)\n",
    "x_test, _ = preprocess(df_test, dv, fit_dv=False)"
   ]
  },
  {
   "cell_type": "code",
   "execution_count": 7,
   "id": "c18f99b3",
   "metadata": {},
   "outputs": [],
   "source": [
    "dest_path = './output'\n",
    "\n",
    "# Save DictVectorizer and datasets\n",
    "dump_pickle(dv, os.path.join(dest_path, \"dv.pkl\"))\n",
    "dump_pickle((x_train, y_train), os.path.join(dest_path, \"train.pkl\"))\n",
    "dump_pickle((x_val, y_val), os.path.join(dest_path, \"val.pkl\"))\n",
    "dump_pickle((x_test, y_test), os.path.join(dest_path, \"test.pkl\"))"
   ]
  },
  {
   "cell_type": "markdown",
   "id": "5be461b8",
   "metadata": {},
   "source": [
    "## Q2. Download and preprocess the data"
   ]
  },
  {
   "cell_type": "code",
   "execution_count": 8,
   "id": "625aa434",
   "metadata": {},
   "outputs": [
    {
     "data": {
      "text/plain": [
       "['train.pkl', 'val.pkl', 'dv.pkl', 'test.pkl']"
      ]
     },
     "execution_count": 8,
     "metadata": {},
     "output_type": "execute_result"
    }
   ],
   "source": [
    "file_names = os.listdir(dest_path)\n",
    "\n",
    "file_names"
   ]
  },
  {
   "cell_type": "markdown",
   "id": "2ce52c45",
   "metadata": {},
   "source": [
    "## Q3. Train a model with autolog"
   ]
  },
  {
   "cell_type": "code",
   "execution_count": 9,
   "id": "9fd7790c",
   "metadata": {
    "scrolled": true
   },
   "outputs": [
    {
     "name": "stderr",
     "output_type": "stream",
     "text": [
      "2025/05/26 08:00:42 WARNING mlflow.utils.environment: Encountered an unexpected error while inferring pip requirements (model URI: /tmp/tmp5f8_hqe3/model/model.pkl, flavor: sklearn). Fall back to return ['scikit-learn==1.0.2', 'cloudpickle==2.0.0']. Set logging level to DEBUG to see the full traceback. \n",
      "\u001b[31m2025/05/26 08:00:42 WARNING mlflow.models.model: Model logged without a signature and input example. Please set `input_example` parameter when logging the model to auto infer the model signature.\u001b[0m\n"
     ]
    },
    {
     "name": "stdout",
     "output_type": "stream",
     "text": [
      "🏃 View run painted-dolphin-251 at: http://localhost:5000/#/experiments/0/runs/18bc3a8b56604893938ad68fddc1513d\n",
      "🧪 View experiment at: http://localhost:5000/#/experiments/0\n"
     ]
    }
   ],
   "source": [
    "run_train(dest_path)"
   ]
  },
  {
   "cell_type": "markdown",
   "id": "6cacaa30",
   "metadata": {},
   "source": [
    "## Q4. Launch the tracking server locally"
   ]
  },
  {
   "cell_type": "code",
   "execution_count": 10,
   "id": "dbdae8f1",
   "metadata": {},
   "outputs": [
    {
     "data": {
      "text/plain": [
       "<Experiment: artifact_location='/workspaces/MLOps-Zoomcamp/2. Module 2 - Experiment Tracking/artifacts/4', creation_time=1748244851717, experiment_id='4', last_update_time=1748244851717, lifecycle_stage='active', name='random-forest-hyperopt', tags={}>"
      ]
     },
     "execution_count": 10,
     "metadata": {},
     "output_type": "execute_result"
    }
   ],
   "source": [
    "MLFLOW_TRACKING_URI = \"http://localhost:5000\"\n",
    "\n",
    "mlflow.set_tracking_uri(MLFLOW_TRACKING_URI)\n",
    "mlflow.set_experiment(\"random-forest-hyperopt\")"
   ]
  },
  {
   "cell_type": "markdown",
   "id": "87645012",
   "metadata": {},
   "source": [
    "## Q5. Tune model hyperparameters"
   ]
  },
  {
   "cell_type": "code",
   "execution_count": 11,
   "id": "93c8e43c",
   "metadata": {},
   "outputs": [
    {
     "name": "stdout",
     "output_type": "stream",
     "text": [
      "🏃 View run fun-goose-459 at: http://localhost:5000/#/experiments/4/runs/ae156b62b2664aa49ed1cf5354a817e7           \n",
      "\n",
      "🧪 View experiment at: http://localhost:5000/#/experiments/4                                                        \n",
      "\n",
      "🏃 View run enthused-fish-348 at: http://localhost:5000/#/experiments/4/runs/9aa503f31bad494e8643caa85ae37494       \n",
      "\n",
      "🧪 View experiment at: http://localhost:5000/#/experiments/4                                                        \n",
      "\n",
      "🏃 View run luxuriant-smelt-376 at: http://localhost:5000/#/experiments/4/runs/aa74efb69ad34958b67351d115c84838     \n",
      "\n",
      "🧪 View experiment at: http://localhost:5000/#/experiments/4                                                        \n",
      "\n",
      "🏃 View run luminous-foal-788 at: http://localhost:5000/#/experiments/4/runs/ac39b74789dc4ee7bbe9ba3a6e0c63b9       \n",
      "\n",
      "🧪 View experiment at: http://localhost:5000/#/experiments/4                                                        \n",
      "\n",
      "🏃 View run judicious-mink-161 at: http://localhost:5000/#/experiments/4/runs/d64c748b2c0c45e8ae01eacd7c2cf5e5      \n",
      "\n",
      "🧪 View experiment at: http://localhost:5000/#/experiments/4                                                        \n",
      "\n",
      "🏃 View run spiffy-rat-828 at: http://localhost:5000/#/experiments/4/runs/094d06e4bd5e473c940fe740d0581de5          \n",
      "\n",
      "🧪 View experiment at: http://localhost:5000/#/experiments/4                                                        \n",
      "\n",
      "🏃 View run inquisitive-seal-560 at: http://localhost:5000/#/experiments/4/runs/f3f6bdca8e5247418814c39f0aa2a828    \n",
      "\n",
      "🧪 View experiment at: http://localhost:5000/#/experiments/4                                                        \n",
      "\n",
      "🏃 View run chill-ant-998 at: http://localhost:5000/#/experiments/4/runs/4ec63c4c87ec4c31b75f9782b632c387           \n",
      "\n",
      "🧪 View experiment at: http://localhost:5000/#/experiments/4                                                        \n",
      "\n",
      "🏃 View run vaunted-hound-654 at: http://localhost:5000/#/experiments/4/runs/8e04cf2741e441b59d877c5623b77fc1       \n",
      "\n",
      "🧪 View experiment at: http://localhost:5000/#/experiments/4                                                        \n",
      "\n",
      "🏃 View run amusing-moose-34 at: http://localhost:5000/#/experiments/4/runs/360e24a330474526a624018df22ae9a6        \n",
      "\n",
      "🧪 View experiment at: http://localhost:5000/#/experiments/4                                                        \n",
      "\n",
      "🏃 View run popular-rook-755 at: http://localhost:5000/#/experiments/4/runs/6866b67ba95e4d1496b53de718f3783a        \n",
      "\n",
      "🧪 View experiment at: http://localhost:5000/#/experiments/4                                                        \n",
      "\n",
      "🏃 View run bright-cod-749 at: http://localhost:5000/#/experiments/4/runs/9ae1aaf723ca4bb0aad27c5dee87a857          \n",
      "\n",
      "🧪 View experiment at: http://localhost:5000/#/experiments/4                                                        \n",
      "\n",
      "🏃 View run skittish-snake-507 at: http://localhost:5000/#/experiments/4/runs/9acba18696e44ceba15f74c3f39d4a09      \n",
      "\n",
      "🧪 View experiment at: http://localhost:5000/#/experiments/4                                                        \n",
      "\n",
      "🏃 View run defiant-ram-100 at: http://localhost:5000/#/experiments/4/runs/4209ae5a5f1f4db799a9097b633c23b9         \n",
      "\n",
      "🧪 View experiment at: http://localhost:5000/#/experiments/4                                                        \n",
      "\n",
      "🏃 View run rumbling-shad-528 at: http://localhost:5000/#/experiments/4/runs/6e4e0b5d448f4f7ca2b0a08e00698fd3       \n",
      "\n",
      "🧪 View experiment at: http://localhost:5000/#/experiments/4                                                        \n",
      "\n",
      "100%|██████████████████████████████████████████████| 15/15 [00:54<00:00,  3.64s/trial, best loss: 5.335419588556921]\n"
     ]
    }
   ],
   "source": [
    "run_optimization(dest_path, 15)"
   ]
  },
  {
   "cell_type": "code",
   "execution_count": 12,
   "id": "f458f34b",
   "metadata": {},
   "outputs": [],
   "source": [
    "MLFLOW_TRACKING_URI = \"http://localhost:5000\"\n",
    "HPO_EXPERIMENT_NAME = \"random-forest-hyperopt\"\n",
    "EXPERIMENT_NAME = \"random-forest-best-models\"\n",
    "REGISTERED_MODEL_NAME = \"random-forest-regressor\"\n",
    "RF_PARAMS = ['max_depth', 'n_estimators', 'min_samples_split', 'min_samples_leaf', 'random_state']"
   ]
  },
  {
   "cell_type": "markdown",
   "id": "28db6e26",
   "metadata": {},
   "source": [
    "## Q6. Promote the best model to the model registry"
   ]
  },
  {
   "cell_type": "code",
   "execution_count": 13,
   "id": "7aa7606f",
   "metadata": {},
   "outputs": [
    {
     "name": "stdout",
     "output_type": "stream",
     "text": [
      "🏃 View run rogue-fawn-546 at: http://localhost:5000/#/experiments/5/runs/322f082f5e24425aa94f1b4c6ac9de7c\n",
      "🧪 View experiment at: http://localhost:5000/#/experiments/5\n",
      "🏃 View run clumsy-wren-334 at: http://localhost:5000/#/experiments/5/runs/2c9c5339dbe146a6a8f5312f18de24f5\n",
      "🧪 View experiment at: http://localhost:5000/#/experiments/5\n",
      "🏃 View run inquisitive-crab-393 at: http://localhost:5000/#/experiments/5/runs/70c349b536be4a39936f7710cb61b1f0\n",
      "🧪 View experiment at: http://localhost:5000/#/experiments/5\n",
      "🏃 View run enchanting-moose-695 at: http://localhost:5000/#/experiments/5/runs/ef4a81ddabc2474992460c5ea6d0e090\n",
      "🧪 View experiment at: http://localhost:5000/#/experiments/5\n"
     ]
    },
    {
     "name": "stderr",
     "output_type": "stream",
     "text": [
      "Registered model 'random-forest-regressor' already exists. Creating a new version of this model...\n",
      "2025/05/26 08:01:51 INFO mlflow.store.model_registry.abstract_store: Waiting up to 300 seconds for model version to finish creation. Model name: random-forest-regressor, version 3\n"
     ]
    },
    {
     "name": "stdout",
     "output_type": "stream",
     "text": [
      "🏃 View run nosy-grub-119 at: http://localhost:5000/#/experiments/5/runs/f27218a2d33a4ed190df9305e9785243\n",
      "🧪 View experiment at: http://localhost:5000/#/experiments/5\n"
     ]
    },
    {
     "name": "stderr",
     "output_type": "stream",
     "text": [
      "Created version '3' of model 'random-forest-regressor'.\n"
     ]
    }
   ],
   "source": [
    "run_register_model(dest_path, 5)"
   ]
  }
 ],
 "metadata": {
  "kernelspec": {
   "display_name": "Python 3 (ipykernel)",
   "language": "python",
   "name": "python3"
  },
  "language_info": {
   "codemirror_mode": {
    "name": "ipython",
    "version": 3
   },
   "file_extension": ".py",
   "mimetype": "text/x-python",
   "name": "python",
   "nbconvert_exporter": "python",
   "pygments_lexer": "ipython3",
   "version": "3.9.12"
  }
 },
 "nbformat": 4,
 "nbformat_minor": 5
}
